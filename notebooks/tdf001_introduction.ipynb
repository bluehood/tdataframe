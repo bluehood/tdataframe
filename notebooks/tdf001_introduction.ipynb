{
 "cells": [
  {
   "cell_type": "markdown",
   "metadata": {},
   "source": [
    "# Tdf 0 0 1_Introduction\n",
    "<hr style=\"border-top-width: 4px; border-top-color: #34609b;\">\n",
    "This tutorial illustrates the basic features of the TDataFrame class, \n",
    "a utility which allows to interact with data stored in TTrees following\n",
    "a functional-chain like approach.\n",
    "\n",
    "\n",
    "\n",
    "\n",
    "**Author:** Enrico Guiraud  \n",
    "<i><small>This notebook tutorial was automatically generated with <a href= \"https://github.com/root-mirror/root/blob/master/documentation/doxygen/converttonotebook.py\">ROOTBOOK-izer (Beta)</a> from the macro found in the ROOT repository  on Wednesday, December 28, 2016 at 02:54 AM.</small></i>"
   ]
  },
  {
   "cell_type": "markdown",
   "metadata": {},
   "source": [
    " ## Preparation\n",
    " This notebook can be compiled with this invocation\n",
    " `g++ -o tdf001_introduction tdf001_introduction.C ` root-config --cflags --libs ` -lTreePlayer`"
   ]
  },
  {
   "cell_type": "code",
   "execution_count": 1,
   "metadata": {
    "collapsed": false
   },
   "outputs": [],
   "source": [
    "#include \"TFile.h\"\n",
    "#include \"TH1F.h\"\n",
    "#include \"TTree.h\"\n",
    "#include \"ROOT/TSeq.hxx\"\n",
    "\n",
    "#include \"TDataFrame.hxx\""
   ]
  },
  {
   "cell_type": "markdown",
   "metadata": {},
   "source": [
    "  A simple helper function to fill a test tree: this makes the example \n",
    " stand-alone.\n",
    " "
   ]
  },
  {
   "cell_type": "code",
   "execution_count": 2,
   "metadata": {
    "collapsed": false
   },
   "outputs": [],
   "source": [
    "%%cpp -d\n",
    "void fill_tree(const char* filename, const char* treeName) {\n",
    "   TFile f(filename,\"RECREATE\");\n",
    "   TTree t(treeName,treeName);\n",
    "   double b1;\n",
    "   int b2;\n",
    "   t.Branch(\"b1\", &b1);\n",
    "   t.Branch(\"b2\", &b2);\n",
    "   for(auto i : ROOT::TSeqI(10)) {\n",
    "      b1 = i;\n",
    "      b2 = i*i;\n",
    "      t.Fill();\n",
    "   }\n",
    "   t.Write();\n",
    "   f.Close();\n",
    "   return;\n",
    "}"
   ]
  },
  {
   "cell_type": "markdown",
   "metadata": {},
   "source": [
    "We prepare an input tree to run on"
   ]
  },
  {
   "cell_type": "code",
   "execution_count": 3,
   "metadata": {
    "collapsed": false
   },
   "outputs": [],
   "source": [
    "auto fileName = \"myfile.root\";\n",
    "auto treeName = \"myTree\";\n",
    "fill_tree(fileName,treeName);"
   ]
  },
  {
   "cell_type": "markdown",
   "metadata": {},
   "source": [
    "We read the tree from the file and create a tdataframe, a class that \n",
    " allows us to interact with the data contained in the tree."
   ]
  },
  {
   "cell_type": "code",
   "execution_count": 4,
   "metadata": {
    "collapsed": false
   },
   "outputs": [],
   "source": [
    "TFile f(fileName);\n",
    "TDataFrame d(treeName, &f);"
   ]
  },
  {
   "cell_type": "markdown",
   "metadata": {},
   "source": [
    " ## Operations on the dataframe \n",
    " We now review some \"actions\" which can be performed on the data frame.\n",
    " All actions but ForEach return a TActionResultPtr<T>. The series of operations\n",
    " on the data frame is not executed until one of those pointers is accessed or \n",
    " the TDataFrame::Run method is invoked.\n",
    " But first of all, let us we define now our cut-flow with two lambda functions. \n",
    " We can use functions too."
   ]
  },
  {
   "cell_type": "code",
   "execution_count": 5,
   "metadata": {
    "collapsed": false
   },
   "outputs": [],
   "source": [
    "auto cutb1 = [](double b1) { return b1 < 5.; };\n",
    "auto cutb1b2 = [](int b2, double b1) { return b2 % 2 && b1 < 4.; };"
   ]
  },
  {
   "cell_type": "markdown",
   "metadata": {},
   "source": [
    " ### `Count` action\n",
    " The `Count` allows to retrieve the number of the entries \n",
    " that passed the filters"
   ]
  },
  {
   "cell_type": "code",
   "execution_count": 6,
   "metadata": {
    "collapsed": false
   },
   "outputs": [
    {
     "name": "stdout",
     "output_type": "stream",
     "text": [
      "2 entries passed all filters\n"
     ]
    }
   ],
   "source": [
    "auto entries = d.Filter(cutb1, {\"b1\"})\n",
    "                .Filter(cutb1b2, {\"b2\",\"b1\"})\n",
    "                .Count();\n",
    "\n",
    "std::cout << *entries << \" entries passed all filters\" << std::endl;"
   ]
  },
  {
   "cell_type": "markdown",
   "metadata": {},
   "source": [
    " ### `Min`, `Max` and `Mean` actions\n",
    " These actions allow to retrieve statistical information about the entries\n",
    " passing the cuts, if any."
   ]
  },
  {
   "cell_type": "code",
   "execution_count": 7,
   "metadata": {
    "collapsed": false
   },
   "outputs": [
    {
     "name": "stdout",
     "output_type": "stream",
     "text": [
      "The mean is always included between the min and the max: 0 <= 4.5 <= 9\n"
     ]
    }
   ],
   "source": [
    "auto minVal = d.Min(\"b1\");\n",
    "auto maxVal = d.Max(\"b1\");\n",
    "auto meanVal = d.Mean(\"b1\");\n",
    "std::cout << \"The mean is always included between the min and the max: \" \n",
    "          << *minVal << \" <= \" << *meanVal << \" <= \" << *maxVal << std::endl;"
   ]
  },
  {
   "cell_type": "markdown",
   "metadata": {},
   "source": [
    " ### `Get` action\n",
    " The `Get` action allows to retrieve all values of the variable stored in a \n",
    " particular branch that passed filters we specified. The values are stored \n",
    " in a list by default, but other collections can be chosen."
   ]
  },
  {
   "cell_type": "code",
   "execution_count": 8,
   "metadata": {
    "collapsed": false
   },
   "outputs": [
    {
     "name": "stdout",
     "output_type": "stream",
     "text": [
      "\n",
      "selected b1 entries\n",
      "0 1 2 3 4 \n",
      "The type of b1Vec isvector<double>\n"
     ]
    }
   ],
   "source": [
    "auto& b1_cut = d.Filter(cutb1, {\"b1\"});\n",
    "auto b1List = b1_cut.Get<double>(\"b1\");\n",
    "auto b1Vec = b1_cut.Get<double, std::vector<double>>(\"b1\");\n",
    "\n",
    "std::cout << \"\\nselected b1 entries\" << std::endl;\n",
    "for(auto b1_entry : *b1List)\n",
    "   std::cout << b1_entry << \" \";\n",
    "std::cout << std::endl;\n",
    "auto cl = TClass::GetClass(typeid(*b1Vec));\n",
    "std::cout << \"The type of b1Vec is\" << cl->GetName() << std::endl;"
   ]
  },
  {
   "cell_type": "markdown",
   "metadata": {},
   "source": [
    " ### `Histo` action\n",
    " The `Histo` action allows to fill an histogram. It returns a TH1F filled \n",
    " with values of the branch that passed the filters. For the most common types, the type of \n",
    " the branch is automatically guessed."
   ]
  },
  {
   "cell_type": "code",
   "execution_count": 9,
   "metadata": {
    "collapsed": false
   },
   "outputs": [
    {
     "name": "stdout",
     "output_type": "stream",
     "text": [
      "\n",
      "filled h 5 times, mean: 2\n"
     ]
    }
   ],
   "source": [
    "auto hist = d.Filter(cutb1, {\"b1\"}).Histo(\"b1\");\n",
    "std::cout << \"\\nfilled h \" << hist->GetEntries() << \" times, mean: \" << hist->GetMean() << std::endl;"
   ]
  },
  {
   "cell_type": "markdown",
   "metadata": {},
   "source": [
    " ### `Foreach` action\n",
    " The most generic action of all: an operation is applied to all entries. \n",
    " In this case we fill a histogram. In some sense this is a violation of a \n",
    " purely functional paradigm - C++ allows to do that."
   ]
  },
  {
   "cell_type": "code",
   "execution_count": 10,
   "metadata": {
    "collapsed": false
   },
   "outputs": [
    {
     "name": "stdout",
     "output_type": "stream",
     "text": [
      "\n",
      "h filled with 5 entries\n"
     ]
    }
   ],
   "source": [
    "TH1F h(\"h\", \"h\", 12, -1, 11);\n",
    "d.Filter([](int b2) { return b2 % 2 == 0; }, {\"b2\"})\n",
    " .Foreach([&h](double b1) { h.Fill(b1); }, {\"b1\"});\n",
    "d.Run();\n",
    "\n",
    "std::cout << \"\\nh filled with \" << h.GetEntries() << \" entries\" << std::endl;"
   ]
  },
  {
   "cell_type": "markdown",
   "metadata": {},
   "source": [
    "It is also possible to select the branches which will be used by default\n",
    " upfront. In this case there is no need to specify the name of the input\n",
    " branch of cutb1 (the first cut)."
   ]
  },
  {
   "cell_type": "code",
   "execution_count": 11,
   "metadata": {
    "collapsed": false
   },
   "outputs": [
    {
     "name": "stdout",
     "output_type": "stream",
     "text": [
      "After the cuts, we are left with 2 entries\n"
     ]
    }
   ],
   "source": [
    "TDataFrame d2(treeName, &f, {\"b1\"});\n",
    "auto entries_bis = d2.Filter(cutb1).Filter(cutb1b2, {\"b2\", \"b1\"}).Count();\n",
    "std::cout << \"After the cuts, we are left with \" << *entries_bis << \" entries\\n\";\n",
    "\n",
    "\n",
    "return 0;"
   ]
  }
 ],
 "metadata": {
  "kernelspec": {
   "display_name": "ROOT C++",
   "language": "c++",
   "name": "root"
  },
  "language_info": {
   "codemirror_mode": "text/x-c++src",
   "file_extension": ".C",
   "mimetype": " text/x-c++src",
   "name": "c++"
  }
 },
 "nbformat": 4,
 "nbformat_minor": 0
}
