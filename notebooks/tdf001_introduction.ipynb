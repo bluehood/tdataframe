{
 "cells": [
  {
   "cell_type": "markdown",
   "metadata": {},
   "source": [
    "# Tdf 0 0 1_Introduction\n",
    "<hr style=\"border-top-width: 4px; border-top-color: #34609b;\">\n",
    "This tutorial illustrates the basic features of the TDataFrame class, \n",
    "a utility which allows to interact with data stored in TTrees following\n",
    "a functional-chain like approach.\n",
    "\n",
    "\n",
    "\n",
    "\n",
    "**Author:** Enrico Guiraud  \n",
    "<i><small>This notebook tutorial was automatically generated with <a href= \"https://github.com/root-mirror/root/blob/master/documentation/doxygen/converttonotebook.py\">ROOTBOOK-izer (Beta)</a> from the macro found in the ROOT repository  on Thursday, January 05, 2017 at 02:31 PM.</small></i>"
   ]
  },
  {
   "cell_type": "markdown",
   "metadata": {},
   "source": [
    " ## Preparation\n",
    " This notebook can be compiled with this invocation\n",
    " `g++ -o tdf001_introduction tdf001_introduction.C `root-config --cflags --libs` -lTreePlayer`"
   ]
  },
  {
   "cell_type": "code",
   "execution_count": 1,
   "metadata": {
    "collapsed": false
   },
   "outputs": [],
   "source": [
    "#include \"../TDataFrame.hxx\""
   ]
  },
  {
   "cell_type": "markdown",
   "metadata": {},
   "source": [
    "  A simple helper function to fill a test tree: this makes the example \n",
    " stand-alone.\n",
    " "
   ]
  },
  {
   "cell_type": "code",
   "execution_count": 2,
   "metadata": {
    "collapsed": false
   },
   "outputs": [],
   "source": [
    "%%cpp -d\n",
    "void fill_tree(const char* filename, const char* treeName) {\n",
    "   TFile f(filename,\"RECREATE\");\n",
    "   TTree t(treeName,treeName);\n",
    "   double b1;\n",
    "   int b2;\n",
    "   t.Branch(\"b1\", &b1);\n",
    "   t.Branch(\"b2\", &b2);\n",
    "   for(auto i : ROOT::TSeqI(10)) {\n",
    "      b1 = i;\n",
    "      b2 = i*i;\n",
    "      t.Fill();\n",
    "   }\n",
    "   t.Write();\n",
    "   f.Close();\n",
    "   return;\n",
    "}"
   ]
  },
  {
   "cell_type": "markdown",
   "metadata": {},
   "source": [
    "We prepare an input tree to run on"
   ]
  },
  {
   "cell_type": "code",
   "execution_count": 3,
   "metadata": {
    "collapsed": false
   },
   "outputs": [],
   "source": [
    "auto fileName = \"myfile.root\";\n",
    "auto treeName = \"myTree\";\n",
    "fill_tree(fileName,treeName);"
   ]
  },
  {
   "cell_type": "markdown",
   "metadata": {},
   "source": [
    "We read the tree from the file and create a tdataframe, a class that \n",
    " allows us to interact with the data contained in the tree.\n",
    " We select a default column, a *branch* to adopt ROOT jargon, which will\n",
    " be looked at if none is specified by the user when dealing with filters\n",
    "and actions."
   ]
  },
  {
   "cell_type": "code",
   "execution_count": 4,
   "metadata": {
    "collapsed": false
   },
   "outputs": [],
   "source": [
    "TFile f(fileName);\n",
    "TDataFrame d(treeName, &f, {\"b1\"});"
   ]
  },
  {
   "cell_type": "markdown",
   "metadata": {},
   "source": [
    " ## Operations on the dataframe \n",
    " We now review some *actions* which can be performed on the data frame.\n",
    " All actions but ForEach return a TActionResultPtr<T>. The series of\n",
    " operations on the data frame is not executed until one of those pointers\n",
    " is accessed or the TDataFrame::Run method is invoked.\n",
    " But first of all, let us we define now our cut-flow with two lambda\n",
    " functions. We can use free functions too."
   ]
  },
  {
   "cell_type": "code",
   "execution_count": 5,
   "metadata": {
    "collapsed": false
   },
   "outputs": [],
   "source": [
    "auto cutb1 = [](double b1) { return b1 < 5.; };\n",
    "auto cutb1b2 = [](int b2, double b1) { return b2 % 2 && b1 < 4.; };"
   ]
  },
  {
   "cell_type": "markdown",
   "metadata": {},
   "source": [
    "### `Count` action\n",
    "The `Count` allows to retrieve the number of the entries that passed the\n",
    "filters. Here we show how the automatic selection of the column kicks\n",
    "in in case the user specifies none."
   ]
  },
  {
   "cell_type": "code",
   "execution_count": 6,
   "metadata": {
    "collapsed": false
   },
   "outputs": [
    {
     "name": "stdout",
     "output_type": "stream",
     "text": [
      "2 entries passed all filters\n"
     ]
    }
   ],
   "source": [
    "auto entries = d.Filter(cutb1).Filter(cutb1b2, {\"b2\",\"b1\"}).Count();\n",
    "std::cout << *entries << \" entries passed all filters\" << std::endl;"
   ]
  },
  {
   "cell_type": "markdown",
   "metadata": {},
   "source": [
    "### `Count`,  `Min`, `Max` and `Mean` actions\n",
    "The `Min`, `Max` and `Mean` actions retrieve statistical information about the entries passing the cuts, if any "
   ]
  },
  {
   "cell_type": "code",
   "execution_count": 7,
   "metadata": {
    "collapsed": false
   },
   "outputs": [
    {
     "name": "stdout",
     "output_type": "stream",
     "text": [
      "The mean is always included between the min and the max: 0 <= 28.5 <= 9\n"
     ]
    }
   ],
   "source": [
    "auto minVal = d.Min();\n",
    "auto maxVal = d.Max();\n",
    "auto meanVal = d.Mean(\"b2\"); // <- Here the column is not the default one.\n",
    "std::cout << \"The mean is always included between the min and the max: \" \n",
    "          << *minVal << \" <= \" << *meanVal << \" <= \" << *maxVal << std::endl;"
   ]
  },
  {
   "cell_type": "markdown",
   "metadata": {},
   "source": [
    " ### `Get` action\n",
    " The `Get` action allows to retrieve all values of the variable stored in a \n",
    " particular column that passed filters we specified. The values are stored\n",
    " in a list by default, but other collections can be chosen."
   ]
  },
  {
   "cell_type": "code",
   "execution_count": 1,
   "metadata": {
    "collapsed": false
   },
   "outputs": [
    {
     "name": "stderr",
     "output_type": "stream",
     "text": [
      "input_line_24:3:22: error: use 'template' keyword to treat 'Get' as a dependent template name\n",
      "auto b1List = b1_cut.Get<double>();\n",
      "                     ^\n",
      "                     template \n",
      "input_line_24:4:21: error: use 'template' keyword to treat 'Get' as a dependent template name\n",
      "auto b1Vec = b1_cut.Get<double, std::vector<double>>();\n",
      "                    ^\n",
      "                    template \n",
      "input_line_24:3:1: error: Syntax error\n",
      "auto b1List = b1_cut.Get<double>();\n",
      "^\n",
      "FunctionDecl 0x2f57730 <input_line_24:1:1, line:13:1> line:1:6 __cling_Un1Qu32 'void (void *)'\n",
      "|-ParmVarDecl 0x2f57690 <col:22, col:28> col:28 vpClingValue 'void *'\n",
      "|-CompoundStmt 0x7fa9380bdb28 <col:42, line:13:1>\n",
      "| |-DeclStmt 0x2f57b38 <line:2:2, col:32>\n",
      "| | `-VarDecl 0x2f57838 <col:2, col:31> col:8 used b1_cut 'auto &' cinit\n",
      "| |   `-CallExpr 0x7fa9380c03a8 </cvmfs/sft.cern.ch/lcg/releases/ROOT/6.08.02-99084/x86_64-slc6-gcc49-opt/etc/cling/Interpreter/RuntimeUniverse.h:48:7, input_line_24:2:31> '<dependent type>'\n",
      "| |     |-DeclRefExpr 0x7fa9380c0380 </cvmfs/sft.cern.ch/lcg/releases/ROOT/6.08.02-99084/x86_64-slc6-gcc49-opt/etc/cling/Interpreter/RuntimeUniverse.h:48:7> 'auto &(class cling::runtime::internal::DynamicExprInfo *, clang::DeclContext *)' Function 0x7fa9380be8d0 'EvaluateT' 'auto &(class cling::runtime::internal::DynamicExprInfo *, clang::DeclContext *)'\n",
      "| |     |-CXXNewExpr 0x7fa9380be678 <col:7, col:11> 'class cling::runtime::internal::DynamicExprInfo *' Function 0xeb8be8 'operator new' 'void *(std::size_t)'\n",
      "| |     | `-CXXConstructExpr 0x7fa9380be630 <<invalid sloc>, col:11> 'class cling::runtime::internal::DynamicExprInfo' 'void (const char *, void **, bool)'\n",
      "| |     |   |-ImplicitCastExpr 0x7fa9380be600 <col:7> 'const char *' <ArrayToPointerDecay>\n",
      "| |     |   | `-StringLiteral 0x7fa9380bdc08 <col:7> 'const char [18]' lvalue \"(d.Filter(cutb1))\"\n",
      "| |     |   |-ImplicitCastExpr 0x7fa9380be618 <col:7, col:11> 'void **' <ArrayToPointerDecay>\n",
      "| |     |   | `-CompoundLiteralExpr 0x7fa9380bdd68 <col:7, col:11> 'void *[0]'\n",
      "| |     |   |   `-InitListExpr 0x7fa9380bdce8 <col:7, col:11> 'void *[0]'\n",
      "| |     |   `-CXXBoolLiteralExpr 0x7fa9380bdda8 <col:7> 'bool' false\n",
      "| |     `-CStyleCastExpr 0x7fa9380be700 <<invalid sloc>> 'class clang::DeclContext *' <IntegralToPointer>\n",
      "| |       `-IntegerLiteral 0x7fa9380be6d0 <<invalid sloc>> 'unsigned long' 49641328\n",
      "| |-DeclStmt 0x2f57dc8 <input_line_24:3:1, col:35>\n",
      "| | `-VarDecl 0x2f57b60 <col:1, col:34> col:6 used b1List 'auto' cinit\n",
      "| |   `-CallExpr 0x2f57da0 <col:15, col:34> '<dependent type>'\n",
      "| |     `-CXXDependentScopeMemberExpr 0x2f57d08 <col:15, col:32> '<dependent type>' lvalue\n",
      "| |       `-DeclRefExpr 0x2f57bc0 <col:15> 'auto' lvalue Var 0x2f57838 'b1_cut' 'auto &'\n",
      "| |-DeclStmt 0x2f58198 <line:4:1, col:55>\n",
      "| | `-VarDecl 0x2f57df0 <col:1, col:54> col:6 referenced b1Vec 'auto' cinit\n",
      "| |   `-CallExpr 0x2f58170 <col:14, col:54> '<dependent type>'\n",
      "| |     `-CXXDependentScopeMemberExpr 0x2f580a8 <col:14, col:52> '<dependent type>' lvalue\n",
      "| |       `-DeclRefExpr 0x2f57e50 <col:14> 'auto' lvalue Var 0x2f57838 'b1_cut' 'auto &'\n",
      "| |-CXXOperatorCallExpr 0x7fa9380a44f0 <line:6:1, col:44> '__ostream_type':'class std::basic_ostream<char>' lvalue\n",
      "| | |-ImplicitCastExpr 0x7fa9380a44d8 <col:36> '__ostream_type &(*)(__ostream_type &(*)(__ostream_type &))' <FunctionToPointerDecay>\n",
      "| | | `-DeclRefExpr 0x7fa9380a4370 <col:36> '__ostream_type &(__ostream_type &(*)(__ostream_type &))' lvalue CXXMethod 0x7fa938081060 'operator<<' '__ostream_type &(__ostream_type &(*)(__ostream_type &))'\n",
      "| | |-CXXOperatorCallExpr 0x7fa938089520 <col:1, col:14> 'basic_ostream<char, struct std::char_traits<char> >':'class std::basic_ostream<char>' lvalue\n",
      "| | | |-ImplicitCastExpr 0x7fa938089508 <col:11> 'basic_ostream<char, struct std::char_traits<char> > &(*)(basic_ostream<char, struct std::char_traits<char> > &, const char *)' <FunctionToPointerDecay>\n",
      "| | | | `-DeclRefExpr 0x7fa9380877b0 <col:11> 'basic_ostream<char, struct std::char_traits<char> > &(basic_ostream<char, struct std::char_traits<char> > &, const char *)' lvalue Function 0x7fa93805c6e8 'operator<<' 'basic_ostream<char, struct std::char_traits<char> > &(basic_ostream<char, struct std::char_traits<char> > &, const char *)'\n",
      "| | | |-DeclRefExpr 0x2f581d0 <col:1, col:6> 'ostream':'class std::basic_ostream<char>' lvalue Var 0x20d9578 'cout' 'ostream':'class std::basic_ostream<char>'\n",
      "| | | `-ImplicitCastExpr 0x7fa938087798 <col:14> 'const char *' <ArrayToPointerDecay>\n",
      "| | |   `-StringLiteral 0x2f58208 <col:14> 'const char [20]' lvalue \"Selected b1 entries\"\n",
      "| | `-ImplicitCastExpr 0x7fa9380a4358 <col:39, col:44> 'basic_ostream<char, struct std::char_traits<char> > &(*)(basic_ostream<char, struct std::char_traits<char> > &)' <FunctionToPointerDecay>\n",
      "| |   `-DeclRefExpr 0x7fa9380a2738 <col:39, col:44> 'basic_ostream<char, struct std::char_traits<char> > &(basic_ostream<char, struct std::char_traits<char> > &)' lvalue Function 0x7fa9380a1a30 'endl' 'basic_ostream<char, struct std::char_traits<char> > &(basic_ostream<char, struct std::char_traits<char> > &)' (FunctionTemplate 0x20d96a0 'endl')\n",
      "| |-CXXForRangeStmt 0x7fa9380b08e8 <line:7:1, line:8:29>\n",
      "| | |-DeclStmt 0x7fa9380b0898 <line:7:21>\n",
      "| | | `-VarDecl 0x7fa9380b0808 <col:21, col:22> col:21 implicit used __range 'auto &&' cinit\n",
      "| | |   `-CXXOperatorCallExpr 0x7fa9380b0708 <col:21, col:22> '<dependent type>'\n",
      "| | |     |-UnresolvedLookupExpr 0x7fa9380b04c0 <col:21> '<overloaded function type>' lvalue (ADL) = 'operator*' 0x1f62260 0x1f62630 0x1f62a00 0x1d04d68 0x1d05238 0x1d05708 0x1d05c90 0x1d06210 0x1d06790 0x1fd72f8 0x1fd77c8 0x1d417f8 0x1d41d80 0x1d42300 0x1d42880 0x1d42d48 0x1d484a0 0x1d489e0 0x1d48fa0 0x1d49560 0x1d49b20 0x1d4a028 0x1d60358 0x1d607d8 0x1d61408 0x1d61d48 0x1d621c8 0x1d62df8 0x1d63748 0x1d63bc8 0x1d647f8 0x1d66f08 0x1d67388 0x1d67fb8 0x1d68758 0x1d68bd8 0x1d69808 0x1590bf8 0x222e048 0x2231e88 0x2232868 0x223a180 0x1b45fc8 0x1b45828 0x1b45bf8 0x1b49018 0x1b49278 0x1b494d8 0x1b49738 0x1b66810 0x1b72c78 0x1b74398 0x7fa9380a9be8 0x7fa9380aa1b0 0x7fa9380aa6f0 0x7fa9380aac30 0x7fa9380ab9a8 0x7fa9380ac408 0x7fa9380ace68 0x7fa9380ad948 0x7fa9380ae428 0x7fa9380aee70 0x7fa9380af788\n",
      "| | |     `-DeclRefExpr 0x7fa9380a4538 <col:22> 'auto' lvalue Var 0x2f57b60 'b1List' 'auto'\n",
      "| | |-<<<NULL>>>\n",
      "| | |-<<<NULL>>>\n",
      "| | |-<<<NULL>>>\n",
      "| | |-<<<NULL>>>\n",
      "| | |-DeclStmt 0x7fa9380b07b8 <col:5, col:28>\n",
      "| | | `-VarDecl 0x7fa9380b0758 <col:5, col:10> col:10 used b1_entry 'auto'\n",
      "| | `-CXXOperatorCallExpr 0x7fa9380b10c8 <line:8:4, col:29> '<dependent type>'\n",
      "| |   |-UnresolvedLookupExpr 0x7fa9380b0d88 <col:26> '<overloaded function type>' lvalue (ADL) = 'operator<<' 0x1ceb588 0x1f4ad20 0x1f4a798 0x1f66360 0x1ce4a60 0x1ce59a0 0x1ce8e88 0x1ce90e8 0x1ce9348 0x1ce95a8 0x1ce9808 0x1ce9a68 0x1ce9cc8 0x1ce9f28 0x1cea188 0x1cea3e8 0x1cea648 0x1cea8a8 0x1ceab08 0x1cead68 0x1ceaff8 0x1ceb8c0 0x1cf07f8 0x1d0e948 0x1d5d3f0 0x1d5e280 0x1d5f190 0x1de2940 0x1de81b0 0x1dea048 0x1e018b8 0x2282d08 0x2285848 0x2285ae8 0x2259740 0x2f58580 0x2f58d68 0x2f596c0 0x2f5a050 0x2f5a680 0x2f5b0f8 0x2f5dad8 0x2f5eab8 0x7fa938005378 0x7fa9380062c8 0x7fa938006f98 0x7fa938007f08 0x7fa938008e58 0x7fa938009dc8 0x7fa93800ad18 0x7fa93800bc68 0x7fa93800cbb8 0x7fa93800d710 0x7fa93800ec38 0x7fa93800ff90 0x7fa9380108f0 0x7fa9380110d8 0x7fa9380118c8 0x7fa9380120b8 0x7fa9380128a8 0x7fa938013098 0x7fa938013888 0x7fa938014078 0x7fa938014868 0x7fa938019638 0x7fa938019e28 0x7fa93801a468 0x7fa93801aaa8 0x7fa93801b0f8 0x7fa93801b6b8 0x7fa93801bc78 0x7fa93801c2e8 0x7fa93801ce88 0x7fa93801d448 0x7fa93801da40 0x7fa93801e000 0x7fa93801e850 0x7fa93801efc8 0x7fa93801fd38 0x7fa938020798 0x7fa9380211f8 0x7fa938021cd8 0x7fa9380227b8 0x7fa938023200 0x7fa938023b18 0x7fa938024440 0x7fa938024ba8 0x7fa938025318 0x7fa938025a88 0x7fa938026508 0x7fa938026c78 0x7fa9380273e8 0x7fa938027f10 0x7fa938028b28\n",
      "| |   |-CXXOperatorCallExpr 0x7fa9380b0d10 <col:4, col:17> '<dependent type>'\n",
      "| |   | |-UnresolvedLookupExpr 0x7fa9380b09d0 <col:14> '<overloaded function type>' lvalue (ADL) = 'operator<<' 0x1ceb588 0x1f4ad20 0x1f4a798 0x1f66360 0x1ce4a60 0x1ce59a0 0x1ce8e88 0x1ce90e8 0x1ce9348 0x1ce95a8 0x1ce9808 0x1ce9a68 0x1ce9cc8 0x1ce9f28 0x1cea188 0x1cea3e8 0x1cea648 0x1cea8a8 0x1ceab08 0x1cead68 0x1ceaff8 0x1ceb8c0 0x1cf07f8 0x1d0e948 0x1d5d3f0 0x1d5e280 0x1d5f190 0x1de2940 0x1de81b0 0x1dea048 0x1e018b8 0x2282d08 0x2285848 0x2285ae8 0x2259740 0x2f58580 0x2f58d68 0x2f596c0 0x2f5a050 0x2f5a680 0x2f5b0f8 0x2f5dad8 0x2f5eab8 0x7fa938005378 0x7fa9380062c8 0x7fa938006f98 0x7fa938007f08 0x7fa938008e58 0x7fa938009dc8 0x7fa93800ad18 0x7fa93800bc68 0x7fa93800cbb8 0x7fa93800d710 0x7fa93800ec38 0x7fa93800ff90 0x7fa9380108f0 0x7fa9380110d8 0x7fa9380118c8 0x7fa9380120b8 0x7fa9380128a8 0x7fa938013098 0x7fa938013888 0x7fa938014078 0x7fa938014868 0x7fa938019638 0x7fa938019e28 0x7fa93801a468 0x7fa93801aaa8 0x7fa93801b0f8 0x7fa93801b6b8 0x7fa93801bc78 0x7fa93801c2e8 0x7fa93801ce88 0x7fa93801d448 0x7fa93801da40 0x7fa93801e000 0x7fa93801e850 0x7fa93801efc8 0x7fa93801fd38 0x7fa938020798 0x7fa9380211f8 0x7fa938021cd8 0x7fa9380227b8 0x7fa938023200 0x7fa938023b18 0x7fa938024440 0x7fa938024ba8 0x7fa938025318 0x7fa938025a88 0x7fa938026508 0x7fa938026c78 0x7fa9380273e8 0x7fa938027f10 0x7fa938028b28\n",
      "| |   | |-DeclRefExpr 0x7fa9380b0958 <col:4, col:9> 'ostream':'class std::basic_ostream<char>' lvalue Var 0x20d9578 'cout' 'ostream':'class std::basic_ostream<char>'\n",
      "| |   | `-DeclRefExpr 0x7fa9380b0990 <col:17> 'auto' lvalue Var 0x7fa9380b0758 'b1_entry' 'auto'\n",
      "| |   `-StringLiteral 0x7fa9380b0d58 <col:29> 'const char [2]' lvalue \" \"\n",
      "| |-CXXOperatorCallExpr 0x7fa9380b2d30 <line:9:1, col:19> '__ostream_type':'class std::basic_ostream<char>' lvalue\n",
      "| | |-ImplicitCastExpr 0x7fa9380b2d18 <col:11> '__ostream_type &(*)(__ostream_type &(*)(__ostream_type &))' <FunctionToPointerDecay>\n",
      "| | | `-DeclRefExpr 0x7fa9380b2cf0 <col:11> '__ostream_type &(__ostream_type &(*)(__ostream_type &))' lvalue CXXMethod 0x7fa938081060 'operator<<' '__ostream_type &(__ostream_type &(*)(__ostream_type &))'\n",
      "| | |-DeclRefExpr 0x7fa9380b1130 <col:1, col:6> 'ostream':'class std::basic_ostream<char>' lvalue Var 0x20d9578 'cout' 'ostream':'class std::basic_ostream<char>'\n",
      "| | `-ImplicitCastExpr 0x7fa9380b2cd8 <col:14, col:19> 'basic_ostream<char, struct std::char_traits<char> > &(*)(basic_ostream<char, struct std::char_traits<char> > &)' <FunctionToPointerDecay>\n",
      "| |   `-DeclRefExpr 0x7fa9380b2c98 <col:14, col:19> 'basic_ostream<char, struct std::char_traits<char> > &(basic_ostream<char, struct std::char_traits<char> > &)' lvalue Function 0x7fa9380a1a30 'endl' 'basic_ostream<char, struct std::char_traits<char> > &(basic_ostream<char, struct std::char_traits<char> > &)' (FunctionTemplate 0x20d96a0 'endl')\n",
      "| |-DeclStmt 0x7fa9380b4240 <line:10:1, col:48>\n",
      "| | `-VarDecl 0x7fa9380b2d88 <col:1, col:47> col:6 used b1VecCl 'class TClass *':'class TClass *' cinit\n",
      "| |   `-CallExpr 0x7fa9380b4120 <col:16, col:47> 'class TClass *'\n",
      "| |     |-ImplicitCastExpr 0x7fa9380b4108 <col:16, col:24> 'class TClass *(*)(const std::type_info &, Bool_t, Bool_t)' <FunctionToPointerDecay>\n",
      "| |     | `-DeclRefExpr 0x7fa9380b4078 <col:16, col:24> 'class TClass *(const std::type_info &, Bool_t, Bool_t)' lvalue CXXMethod 0x7fa9380b30f8 'GetClass' 'class TClass *(const std::type_info &, Bool_t, Bool_t)'\n",
      "| |     |-CXXTypeidExpr 0x7fa9380b4058 <col:33, col:46> 'const class std::type_info' lvalue\n",
      "| |     | `-CXXOperatorCallExpr 0x7fa9380b4018 <col:40, col:41> '<dependent type>'\n",
      "| |     |   |-UnresolvedLookupExpr 0x7fa9380b3dd0 <col:40> '<overloaded function type>' lvalue (ADL) = 'operator*' 0x1f62260 0x1f62630 0x1f62a00 0x1d04d68 0x1d05238 0x1d05708 0x1d05c90 0x1d06210 0x1d06790 0x1fd72f8 0x1fd77c8 0x1d417f8 0x1d41d80 0x1d42300 0x1d42880 0x1d42d48 0x1d484a0 0x1d489e0 0x1d48fa0 0x1d49560 0x1d49b20 0x1d4a028 0x1d60358 0x1d607d8 0x1d61408 0x1d61d48 0x1d621c8 0x1d62df8 0x1d63748 0x1d63bc8 0x1d647f8 0x1d66f08 0x1d67388 0x1d67fb8 0x1d68758 0x1d68bd8 0x1d69808 0x1590bf8 0x222e048 0x2231e88 0x2232868 0x223a180 0x1b45fc8 0x1b45828 0x1b45bf8 0x1b49018 0x1b49278 0x1b494d8 0x1b49738 0x1b66810 0x1b72c78 0x1b74398 0x7fa9380a9be8 0x7fa9380aa1b0 0x7fa9380aa6f0 0x7fa9380aac30 0x7fa9380ab9a8 0x7fa9380ac408 0x7fa9380ace68 0x7fa9380ad948 0x7fa9380ae428 0x7fa9380aee70 0x7fa9380af788\n",
      "| |     |   `-DeclRefExpr 0x7fa9380b3da8 <col:41> 'auto' lvalue Var 0x2f57df0 'b1Vec' 'auto'\n",
      "| |     |-CXXDefaultArgExpr 0x7fa9380b4170 <<invalid sloc>> 'Bool_t':'bool'\n",
      "| |     `-CXXDefaultArgExpr 0x7fa9380b4190 <<invalid sloc>> 'Bool_t':'bool'\n",
      "| |-CXXOperatorCallExpr 0x7fa9380bdad0 <line:11:1, col:67> '__ostream_type':'class std::basic_ostream<char>' lvalue\n",
      "| | |-ImplicitCastExpr 0x7fa9380bdab8 <col:59> '__ostream_type &(*)(__ostream_type &(*)(__ostream_type &))' <FunctionToPointerDecay>\n",
      "| | | `-DeclRefExpr 0x7fa9380bda90 <col:59> '__ostream_type &(__ostream_type &(*)(__ostream_type &))' lvalue CXXMethod 0x7fa938081060 'operator<<' '__ostream_type &(__ostream_type &(*)(__ostream_type &))'\n",
      "| | |-CXXOperatorCallExpr 0x7fa9380b6698 <col:1, col:57> 'basic_ostream<char, struct std::char_traits<char> >':'class std::basic_ostream<char>' lvalue\n",
      "| | | |-ImplicitCastExpr 0x7fa9380b6680 <col:37> 'basic_ostream<char, struct std::char_traits<char> > &(*)(basic_ostream<char, struct std::char_traits<char> > &, const char *)' <FunctionToPointerDecay>\n",
      "| | | | `-DeclRefExpr 0x7fa9380b6658 <col:37> 'basic_ostream<char, struct std::char_traits<char> > &(basic_ostream<char, struct std::char_traits<char> > &, const char *)' lvalue Function 0x7fa93805c6e8 'operator<<' 'basic_ostream<char, struct std::char_traits<char> > &(basic_ostream<char, struct std::char_traits<char> > &, const char *)'\n",
      "| | | |-CXXOperatorCallExpr 0x7fa9380b5350 <col:1, col:14> 'basic_ostream<char, struct std::char_traits<char> >':'class std::basic_ostream<char>' lvalue\n",
      "| | | | |-ImplicitCastExpr 0x7fa9380b5338 <col:11> 'basic_ostream<char, struct std::char_traits<char> > &(*)(basic_ostream<char, struct std::char_traits<char> > &, const char *)' <FunctionToPointerDecay>\n",
      "| | | | | `-DeclRefExpr 0x7fa9380b5310 <col:11> 'basic_ostream<char, struct std::char_traits<char> > &(basic_ostream<char, struct std::char_traits<char> > &, const char *)' lvalue Function 0x7fa93805c6e8 'operator<<' 'basic_ostream<char, struct std::char_traits<char> > &(basic_ostream<char, struct std::char_traits<char> > &, const char *)'\n",
      "| | | | |-DeclRefExpr 0x7fa9380b4278 <col:1, col:6> 'ostream':'class std::basic_ostream<char>' lvalue Var 0x20d9578 'cout' 'ostream':'class std::basic_ostream<char>'\n",
      "| | | | `-ImplicitCastExpr 0x7fa9380b52f8 <col:14> 'const char *' <ArrayToPointerDecay>\n",
      "| | | |   `-StringLiteral 0x7fa9380b42e8 <col:14> 'const char [21]' lvalue \"The type of b1Vec is\"\n",
      "| | | `-CXXMemberCallExpr 0x7fa9380b5648 <col:40, col:57> 'const char *'\n",
      "| | |   `-MemberExpr 0x7fa9380b53f0 <col:40, col:49> '<bound member function type>' ->GetName 0x187a6e0\n",
      "| | |     `-ImplicitCastExpr 0x7fa9380b5670 <col:40> 'const class TNamed *' <UncheckedDerivedToBase (TDictionary -> TNamed)>\n",
      "| | |       `-ImplicitCastExpr 0x7fa9380b53d8 <col:40> 'class TClass *':'class TClass *' <LValueToRValue>\n",
      "| | |         `-DeclRefExpr 0x7fa9380b5398 <col:40> 'class TClass *':'class TClass *' lvalue Var 0x7fa9380b2d88 'b1VecCl' 'class TClass *':'class TClass *'\n",
      "| | `-ImplicitCastExpr 0x7fa9380bda78 <col:62, col:67> 'basic_ostream<char, struct std::char_traits<char> > &(*)(basic_ostream<char, struct std::char_traits<char> > &)' <FunctionToPointerDecay>\n",
      "| |   `-DeclRefExpr 0x7fa9380bda38 <col:62, col:67> 'basic_ostream<char, struct std::char_traits<char> > &(basic_ostream<char, struct std::char_traits<char> > &)' lvalue Function 0x7fa9380a1a30 'endl' 'basic_ostream<char, struct std::char_traits<char> > &(basic_ostream<char, struct std::char_traits<char> > &)' (FunctionTemplate 0x20d96a0 'endl')\n",
      "| `-NullStmt 0x7fa9380bdb18 <line:12:1>\n",
      "|-AnnotateAttr 0x2f578f8 <<invalid sloc>> R\"ATTRDUMP(__ResolveAtRuntime)ATTRDUMP\"\n",
      "|-AnnotateAttr 0x2f57a48 <<invalid sloc>> R\"ATTRDUMP(__ResolveAtRuntime)ATTRDUMP\"\n",
      "`-AnnotateAttr 0x2f57ca8 <<invalid sloc>> R\"ATTRDUMP(__ResolveAtRuntime)ATTRDUMP\"\n",
      "<<<NULL>>>\n"
     ]
    }
   ],
   "source": [
    "auto& b1_cut = d.Filter(cutb1);\n",
    "auto b1List = b1_cut.Get<double>();\n",
    "auto b1Vec = b1_cut.Get<double, std::vector<double>>();\n",
    "\n",
    "std::cout << \"Selected b1 entries\" << std::endl;\n",
    "for(auto b1_entry : *b1List)\n",
    "   std::cout << b1_entry << \" \";\n",
    "std::cout << std::endl;\n",
    "auto b1VecCl = TClass::GetClass(typeid(*b1Vec));\n",
    "std::cout << \"The type of b1Vec is\" << b1VecCl->GetName() << std::endl;"
   ]
  },
  {
   "cell_type": "markdown",
   "metadata": {},
   "source": [
    " ### `Histo` action\n",
    " The `Histo` action allows to fill an histogram. It returns a TH1F filled \n",
    " with values of the column that passed the filters. For the most common\n",
    " types, the type of the values stored in the column is automatically\n",
    " guessed."
   ]
  },
  {
   "cell_type": "code",
   "execution_count": 9,
   "metadata": {
    "collapsed": false
   },
   "outputs": [
    {
     "name": "stdout",
     "output_type": "stream",
     "text": [
      "Filled h 5 times, mean: 2\n"
     ]
    }
   ],
   "source": [
    "auto hist = d.Filter(cutb1).Histo();\n",
    "std::cout << \"Filled h \" << hist->GetEntries() << \" times, mean: \" << hist->GetMean() << std::endl;"
   ]
  },
  {
   "cell_type": "markdown",
   "metadata": {},
   "source": [
    " ### `Foreach` action\n",
    " The most generic action of all: an operation is applied to all entries. \n",
    " In this case we fill a histogram. In some sense this is a violation of a \n",
    " purely functional paradigm - C++ allows to do that."
   ]
  },
  {
   "cell_type": "code",
   "execution_count": 10,
   "metadata": {
    "collapsed": false
   },
   "outputs": [
    {
     "name": "stdout",
     "output_type": "stream",
     "text": [
      "Filled h with 5 entries\n"
     ]
    }
   ],
   "source": [
    "TH1F h(\"h\", \"h\", 12, -1, 11);\n",
    "d.Filter([](int b2) { return b2 % 2 == 0; }, {\"b2\"})\n",
    " .Foreach([&h](double b1) { h.Fill(b1); });\n",
    "d.Run();\n",
    "\n",
    "std::cout << \"Filled h with \" << h.GetEntries() << \" entries\" << std::endl;"
   ]
  },
  {
   "cell_type": "markdown",
   "metadata": {},
   "source": [
    " ## Express your chain of operations with clarity!\n",
    " We are discussing an example here but it is not hard to imagine much more\n",
    " complex pipelines of actions acting on data. Those might require code\n",
    " which is well organised, for example allowing to conditionally add filters\n",
    " or again to clearly separate filters and actions without the need of\n",
    " writing the entire pipeline on one line. This can be easily achieved.\n",
    " We'll show this re-working the `Count` example:"
   ]
  },
  {
   "cell_type": "code",
   "execution_count": 11,
   "metadata": {
    "collapsed": false
   },
   "outputs": [],
   "source": [
    "auto& cutb1_result = d.Filter(cutb1);\n",
    "auto& cutb1b2_result = d.Filter(cutb1b2, {\"b2\",\"b1\"});\n",
    "auto& cutb1_cutb1b2_result = cutb1_result.Filter(cutb1b2, {\"b2\",\"b1\"});"
   ]
  },
  {
   "cell_type": "markdown",
   "metadata": {},
   "source": [
    "Now we want to count:"
   ]
  },
  {
   "cell_type": "code",
   "execution_count": 12,
   "metadata": {
    "collapsed": false
   },
   "outputs": [
    {
     "name": "stdout",
     "output_type": "stream",
     "text": [
      "Events passing cutb1: 5\n",
      "Events passing cutb1b2: 2\n",
      "Events passing both: 2\n"
     ]
    }
   ],
   "source": [
    "auto evts_cutb1_result = cutb1_result.Count();\n",
    "auto evts_cutb1b2_result = cutb1b2_result.Count();\n",
    "auto evts_cutb1_cutb1b2_result = cutb1_cutb1b2_result.Count();\n",
    "\n",
    "std::cout << \"Events passing cutb1: \" << *evts_cutb1_result << std::endl\n",
    "          << \"Events passing cutb1b2: \" << *evts_cutb1b2_result << std::endl\n",
    "          << \"Events passing both: \" << *evts_cutb1_cutb1b2_result << std::endl;"
   ]
  },
  {
   "cell_type": "markdown",
   "metadata": {},
   "source": [
    " ## Calculating quantities starting from existing columns\n",
    " Often, operations need to be carried out on quantities calculated starting\n",
    " from the ones present in the columns. We'll create in this example a third\n",
    " column the values of which are the sum of the *b1* and *b2* ones, entry by\n",
    " entry. The way in which the new quantity is defined is via a runable.\n",
    " It is important to note two aspects at this point:\n",
    " - The value is created on the fly only if the entry passed the existing\n",
    " filters.\n",
    " - The newly created column behaves as the one present on the file on disk.\n",
    " - The operation creates a new value, without modifying anything. De facto,\n",
    " this is like having a general container at disposal able to accommodate\n",
    " any value of any type.\n",
    " Let's dive in an example:"
   ]
  },
  {
   "cell_type": "code",
   "execution_count": 13,
   "metadata": {
    "collapsed": false
   },
   "outputs": [
    {
     "name": "stdout",
     "output_type": "stream",
     "text": [
      "8\n"
     ]
    }
   ],
   "source": [
    "auto entries_sum = d.AddBranch(\"sum\", [](double b1, int b2) { return b2 + b1; }, {\"b1\", \"b2\"})\n",
    "                    .Filter([](double sum) { return sum > 4.2; }, {\"sum\"})\n",
    "                    .Count();\n",
    "std::cout << *entries_sum << std::endl;\n",
    "\n",
    "return 0;"
   ]
  }
 ],
 "metadata": {
  "kernelspec": {
   "display_name": "ROOT C++",
   "language": "c++",
   "name": "root"
  },
  "language_info": {
   "codemirror_mode": "text/x-c++src",
   "file_extension": ".C",
   "mimetype": " text/x-c++src",
   "name": "c++"
  }
 },
 "nbformat": 4,
 "nbformat_minor": 1
}
