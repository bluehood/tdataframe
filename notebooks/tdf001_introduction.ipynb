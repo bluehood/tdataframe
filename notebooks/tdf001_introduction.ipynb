{
 "cells": [
  {
   "cell_type": "markdown",
   "metadata": {},
   "source": [
    "# Tdf 0 0 1_Introduction\n",
    "<hr style=\"border-top-width: 4px; border-top-color: #34609b;\">\n",
    "This tutorial illustrates the basic features of the TDataFrame class, \n",
    "a utility which allows to interact with data stored in TTrees following\n",
    "a functional-chain like approach.\n",
    "\n",
    "\n",
    "\n",
    "\n",
    "**Author:** Enrico Guiraud  \n",
    "<i><small>This notebook tutorial was automatically generated with <a href= \"https://github.com/root-mirror/root/blob/master/documentation/doxygen/converttonotebook.py\">ROOTBOOK-izer (Beta)</a> from the macro found in the ROOT repository  on Thursday, January 05, 2017 at 02:31 PM.</small></i>"
   ]
  },
  {
   "cell_type": "markdown",
   "metadata": {},
   "source": [
    " ## Preparation\n",
    " This notebook can be compiled with this invocation\n",
    " `g++ -o tdf001_introduction tdf001_introduction.C `root-config --cflags --libs` -lTreePlayer`"
   ]
  },
  {
   "cell_type": "code",
   "execution_count": 1,
   "metadata": {
    "collapsed": false
   },
   "outputs": [],
   "source": [
    "#include \"../TDataFrame.hxx\""
   ]
  },
  {
   "cell_type": "markdown",
   "metadata": {},
   "source": [
    "  A simple helper function to fill a test tree: this makes the example \n",
    " stand-alone.\n",
    " "
   ]
  },
  {
   "cell_type": "code",
   "execution_count": 2,
   "metadata": {
    "collapsed": false
   },
   "outputs": [],
   "source": [
    "%%cpp -d\n",
    "void fill_tree(const char* filename, const char* treeName) {\n",
    "   TFile f(filename,\"RECREATE\");\n",
    "   TTree t(treeName,treeName);\n",
    "   double b1;\n",
    "   int b2;\n",
    "   t.Branch(\"b1\", &b1);\n",
    "   t.Branch(\"b2\", &b2);\n",
    "   for(auto i : ROOT::TSeqI(10)) {\n",
    "      b1 = i;\n",
    "      b2 = i*i;\n",
    "      t.Fill();\n",
    "   }\n",
    "   t.Write();\n",
    "   f.Close();\n",
    "   return;\n",
    "}"
   ]
  },
  {
   "cell_type": "markdown",
   "metadata": {},
   "source": [
    "We prepare an input tree to run on"
   ]
  },
  {
   "cell_type": "code",
   "execution_count": 3,
   "metadata": {
    "collapsed": false
   },
   "outputs": [],
   "source": [
    "auto fileName = \"myfile.root\";\n",
    "auto treeName = \"myTree\";\n",
    "fill_tree(fileName,treeName);"
   ]
  },
  {
   "cell_type": "markdown",
   "metadata": {},
   "source": [
    "We read the tree from the file and create a tdataframe, a class that \n",
    " allows us to interact with the data contained in the tree.\n",
    " We select a default column, a *branch* to adopt ROOT jargon, which will\n",
    " be looked at if none is specified by the user when dealing with filters\n",
    "and actions."
   ]
  },
  {
   "cell_type": "code",
   "execution_count": 4,
   "metadata": {
    "collapsed": false
   },
   "outputs": [],
   "source": [
    "TFile f(fileName);\n",
    "TDataFrame d(treeName, &f, {\"b1\"});"
   ]
  },
  {
   "cell_type": "markdown",
   "metadata": {},
   "source": [
    " ## Operations on the dataframe \n",
    " We now review some *actions* which can be performed on the data frame.\n",
    " All actions but ForEach return a TActionResultPtr<T>. The series of\n",
    " operations on the data frame is not executed until one of those pointers\n",
    " is accessed or the TDataFrame::Run method is invoked.\n",
    " But first of all, let us we define now our cut-flow with two lambda\n",
    " functions. We can use free functions too."
   ]
  },
  {
   "cell_type": "code",
   "execution_count": 5,
   "metadata": {
    "collapsed": false
   },
   "outputs": [],
   "source": [
    "auto cutb1 = [](double b1) { return b1 < 5.; };\n",
    "auto cutb1b2 = [](int b2, double b1) { return b2 % 2 && b1 < 4.; };"
   ]
  },
  {
   "cell_type": "markdown",
   "metadata": {},
   "source": [
    "### `Count` action\n",
    "The `Count` allows to retrieve the number of the entries that passed the\n",
    "filters. Here we show how the automatic selection of the column kicks\n",
    "in in case the user specifies none."
   ]
  },
  {
   "cell_type": "code",
   "execution_count": 6,
   "metadata": {
    "collapsed": false
   },
   "outputs": [
    {
     "name": "stdout",
     "output_type": "stream",
     "text": [
      "2 entries passed all filters\n"
     ]
    }
   ],
   "source": [
    "auto entries = d.Filter(cutb1).Filter(cutb1b2, {\"b2\",\"b1\"}).Count();\n",
    "std::cout << *entries << \" entries passed all filters\" << std::endl;"
   ]
  },
  {
   "cell_type": "markdown",
   "metadata": {},
   "source": [
    "### `Count`,  `Min`, `Max` and `Mean` actions\n",
    "The `Min`, `Max` and `Mean` actions retrieve statistical information about the entries passing the cuts, if any "
   ]
  },
  {
   "cell_type": "code",
   "execution_count": 7,
   "metadata": {
    "collapsed": false
   },
   "outputs": [
    {
     "name": "stdout",
     "output_type": "stream",
     "text": [
      "The mean is always included between the min and the max: 0 <= 28.5 <= 9\n"
     ]
    }
   ],
   "source": [
    "auto minVal = d.Min();\n",
    "auto maxVal = d.Max();\n",
    "auto meanVal = d.Mean(\"b2\"); // <- Here the column is not the default one.\n",
    "std::cout << \"The mean is always included between the min and the max: \" \n",
    "          << *minVal << \" <= \" << *meanVal << \" <= \" << *maxVal << std::endl;"
   ]
  },
  {
   "cell_type": "markdown",
   "metadata": {},
   "source": [
    " ### `Get` action\n",
    " The `Get` action allows to retrieve all values of the variable stored in a \n",
    " particular column that passed filters we specified. The values are stored\n",
    " in a list by default, but other collections can be chosen."
   ]
  },
  {
   "cell_type": "code",
   "execution_count": 8,
   "metadata": {
    "collapsed": false
   },
   "outputs": [
    {
     "name": "stdout",
     "output_type": "stream",
     "text": [
      "Selected b1 entries\n",
      "0 1 2 3 4 \n",
      "The type of b1Vec isvector<double>\n"
     ]
    }
   ],
   "source": [
    "auto& b1_cut = d.Filter(cutb1);\n",
    "auto b1List = b1_cut.Get<double>();\n",
    "auto b1Vec = b1_cut.Get<double, std::vector<double>>();\n",
    "\n",
    "std::cout << \"Selected b1 entries\" << std::endl;\n",
    "for(auto b1_entry : *b1List)\n",
    "   std::cout << b1_entry << \" \";\n",
    "std::cout << std::endl;\n",
    "auto b1VecCl = TClass::GetClass(typeid(*b1Vec));\n",
    "std::cout << \"The type of b1Vec is\" << b1VecCl->GetName() << std::endl;"
   ]
  },
  {
   "cell_type": "markdown",
   "metadata": {},
   "source": [
    " ### `Histo` action\n",
    " The `Histo` action allows to fill an histogram. It returns a TH1F filled \n",
    " with values of the column that passed the filters. For the most common\n",
    " types, the type of the values stored in the column is automatically\n",
    " guessed."
   ]
  },
  {
   "cell_type": "code",
   "execution_count": 9,
   "metadata": {
    "collapsed": false
   },
   "outputs": [
    {
     "name": "stdout",
     "output_type": "stream",
     "text": [
      "Filled h 5 times, mean: 2\n"
     ]
    }
   ],
   "source": [
    "auto hist = d.Filter(cutb1).Histo();\n",
    "std::cout << \"Filled h \" << hist->GetEntries() << \" times, mean: \" << hist->GetMean() << std::endl;"
   ]
  },
  {
   "cell_type": "markdown",
   "metadata": {},
   "source": [
    " ### `Foreach` action\n",
    " The most generic action of all: an operation is applied to all entries. \n",
    " In this case we fill a histogram. In some sense this is a violation of a \n",
    " purely functional paradigm - C++ allows to do that."
   ]
  },
  {
   "cell_type": "code",
   "execution_count": 10,
   "metadata": {
    "collapsed": false
   },
   "outputs": [
    {
     "name": "stdout",
     "output_type": "stream",
     "text": [
      "Filled h with 5 entries\n"
     ]
    }
   ],
   "source": [
    "TH1F h(\"h\", \"h\", 12, -1, 11);\n",
    "d.Filter([](int b2) { return b2 % 2 == 0; }, {\"b2\"})\n",
    " .Foreach([&h](double b1) { h.Fill(b1); });\n",
    "d.Run();\n",
    "\n",
    "std::cout << \"Filled h with \" << h.GetEntries() << \" entries\" << std::endl;"
   ]
  },
  {
   "cell_type": "markdown",
   "metadata": {},
   "source": [
    " ## Express your chain of operations with clarity!\n",
    " We are discussing an example here but it is not hard to imagine much more\n",
    " complex pipelines of actions acting on data. Those might require code\n",
    " which is well organised, for example allowing to conditionally add filters\n",
    " or again to clearly separate filters and actions without the need of\n",
    " writing the entire pipeline on one line. This can be easily achieved.\n",
    " We'll show this re-working the `Count` example:"
   ]
  },
  {
   "cell_type": "code",
   "execution_count": 11,
   "metadata": {
    "collapsed": false
   },
   "outputs": [],
   "source": [
    "auto& cutb1_result = d.Filter(cutb1);\n",
    "auto& cutb1b2_result = d.Filter(cutb1b2, {\"b2\",\"b1\"});\n",
    "auto& cutb1_cutb1b2_result = cutb1_result.Filter(cutb1b2, {\"b2\",\"b1\"});"
   ]
  },
  {
   "cell_type": "markdown",
   "metadata": {},
   "source": [
    "Now we want to count:"
   ]
  },
  {
   "cell_type": "code",
   "execution_count": 12,
   "metadata": {
    "collapsed": false
   },
   "outputs": [
    {
     "name": "stdout",
     "output_type": "stream",
     "text": [
      "Events passing cutb1: 5\n",
      "Events passing cutb1b2: 2\n",
      "Events passing both: 2\n"
     ]
    }
   ],
   "source": [
    "auto evts_cutb1_result = cutb1_result.Count();\n",
    "auto evts_cutb1b2_result = cutb1b2_result.Count();\n",
    "auto evts_cutb1_cutb1b2_result = cutb1_cutb1b2_result.Count();\n",
    "\n",
    "std::cout << \"Events passing cutb1: \" << *evts_cutb1_result << std::endl\n",
    "          << \"Events passing cutb1b2: \" << *evts_cutb1b2_result << std::endl\n",
    "          << \"Events passing both: \" << *evts_cutb1_cutb1b2_result << std::endl;"
   ]
  },
  {
   "cell_type": "markdown",
   "metadata": {},
   "source": [
    " ## Calculating quantities starting from existing columns\n",
    " Often, operations need to be carried out on quantities calculated starting\n",
    " from the ones present in the columns. We'll create in this example a third\n",
    " column the values of which are the sum of the *b1* and *b2* ones, entry by\n",
    " entry. The way in which the new quantity is defined is via a runable.\n",
    " It is important to note two aspects at this point:\n",
    " - The value is created on the fly only if the entry passed the existing\n",
    " filters.\n",
    " - The newly created column behaves as the one present on the file on disk.\n",
    " - The operation creates a new value, without modifying anything. De facto,\n",
    " this is like having a general container at disposal able to accommodate\n",
    " any value of any type.\n",
    " Let's dive in an example:"
   ]
  },
  {
   "cell_type": "code",
   "execution_count": 13,
   "metadata": {
    "collapsed": false
   },
   "outputs": [
    {
     "name": "stdout",
     "output_type": "stream",
     "text": [
      "8\n"
     ]
    }
   ],
   "source": [
    "auto entries_sum = d.AddBranch(\"sum\", [](double b1, int b2) { return b2 + b1; }, {\"b1\", \"b2\"})\n",
    "                    .Filter([](double sum) { return sum > 4.2; }, {\"sum\"})\n",
    "                    .Count();\n",
    "std::cout << *entries_sum << std::endl;\n",
    "\n",
    "return 0;"
   ]
  }
 ],
 "metadata": {
  "kernelspec": {
   "display_name": "ROOT C++",
   "language": "c++",
   "name": "root"
  },
  "language_info": {
   "codemirror_mode": "text/x-c++src",
   "file_extension": ".C",
   "mimetype": " text/x-c++src",
   "name": "c++"
  }
 },
 "nbformat": 4,
 "nbformat_minor": 1
}
