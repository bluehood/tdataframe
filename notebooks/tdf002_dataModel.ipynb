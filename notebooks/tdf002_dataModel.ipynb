{
 "cells": [
  {
   "cell_type": "markdown",
   "metadata": {},
   "source": [
    "# Tdf 0 0 2_Data Model\n",
    "<hr style=\"border-top-width: 4px; border-top-color: #34609b;\">\n",
    "This tutorial shows the possibility to use data models which are more\n",
    "complex than flat ntuples with TDataFrame\n",
    "\n",
    "\n",
    "\n",
    "\n",
    "**Author:** Danilo Piparo  \n",
    "<i><small>This notebook tutorial was automatically generated with <a href= \"https://github.com/root-mirror/root/blob/master/documentation/doxygen/converttonotebook.py\">ROOTBOOK-izer (Beta)</a> from the macro found in the ROOT repository  on Thursday, January 05, 2017 at 03:05 PM.</small></i>"
   ]
  },
  {
   "cell_type": "markdown",
   "metadata": {},
   "source": [
    " ## Preparation\n",
    " This notebook can be compiled with this invocation\n",
    " `g++ -o tdf002_dataModel tdf002_dataModel.C `root-config --cflags --libs` -lTreePlayer`"
   ]
  },
  {
   "cell_type": "code",
   "execution_count": 1,
   "metadata": {
    "collapsed": false
   },
   "outputs": [],
   "source": [
    "%%cpp -d\n",
    "#include \"../TDataFrame.hxx\"\n",
    "\n",
    "using FourVector = ROOT::Math::XYZTVector;\n",
    "using FourVectors = std::vector<FourVector>;\n",
    "using CylFourVector = ROOT::Math::RhoEtaPhiVector;"
   ]
  },
  {
   "cell_type": "markdown",
   "metadata": {},
   "source": [
    "  A simple helper function to fill a test tree: this makes the example \n",
    " stand-alone.\n",
    " "
   ]
  },
  {
   "cell_type": "code",
   "execution_count": 2,
   "metadata": {
    "collapsed": false
   },
   "outputs": [],
   "source": [
    "%%cpp -d\n",
    "void fill_tree(const char* filename, const char* treeName) {\n",
    "   TFile f(filename,\"RECREATE\");\n",
    "   TTree t(treeName,treeName);\n",
    "   FourVectors tracks;\n",
    "   t.Branch(\"tracks\", &tracks);\n",
    "\n",
    "   const double M = 0.13957;  // set pi+ mass\n",
    "   TRandom3 R(1);\n",
    "\n",
    "   for (auto i : ROOT::TSeqI(50)) {\n",
    "      auto nPart = R.Poisson(15);\n",
    "      tracks.clear();\n",
    "      tracks.reserve(nPart);\n",
    "      for (auto j : ROOT::TSeqI(nPart)) {\n",
    "         double px = R.Gaus(0,10);\n",
    "         double py = R.Gaus(0,10);\n",
    "         double pt = sqrt(px*px +py*py);\n",
    "         double eta = R.Uniform(-3,3);\n",
    "         double phi = R.Uniform(0.0 , 2*TMath::Pi() );\n",
    "         CylFourVector vcyl( pt, eta, phi);\n",
    "         // set energy\n",
    "         double E = sqrt( vcyl.R()*vcyl.R() + M*M);\n",
    "         FourVector q( vcyl.X(), vcyl.Y(), vcyl.Z(), E);\n",
    "         // fill track vector\n",
    "         tracks.emplace_back(q);\n",
    "      }\n",
    "      t.Fill();\n",
    "   }\n",
    "\n",
    "   t.Write();\n",
    "   f.Close();\n",
    "   return;\n",
    "}"
   ]
  },
  {
   "cell_type": "markdown",
   "metadata": {},
   "source": [
    "We prepare an input tree to run on"
   ]
  },
  {
   "cell_type": "code",
   "execution_count": 3,
   "metadata": {
    "collapsed": false
   },
   "outputs": [],
   "source": [
    "auto fileName = \"myfile_dataModel.root\";\n",
    "auto treeName = \"myTree\";\n",
    "fill_tree(fileName,treeName);"
   ]
  },
  {
   "cell_type": "markdown",
   "metadata": {},
   "source": [
    "We read the tree from the file and create a tdataframe, a class that \n",
    " allows us to interact with the data contained in the tree."
   ]
  },
  {
   "cell_type": "code",
   "execution_count": 4,
   "metadata": {
    "collapsed": false
   },
   "outputs": [],
   "source": [
    "TFile f(fileName);\n",
    "TDataFrame d(treeName, &f, {\"tracks\"});"
   ]
  },
  {
   "cell_type": "markdown",
   "metadata": {},
   "source": [
    " ## Operating on branches which are collection of objects\n",
    " Here we deal with the simplest of the cuts: we decide to accept the event\n",
    " only if the number of tracks is greater than 5."
   ]
  },
  {
   "cell_type": "code",
   "execution_count": 5,
   "metadata": {
    "collapsed": false
   },
   "outputs": [
    {
     "name": "stdout",
     "output_type": "stream",
     "text": [
      "50 passed all filters\n"
     ]
    }
   ],
   "source": [
    "auto n_cut = [](const FourVectors & tracks) { return tracks.size() > 5; };\n",
    "auto nentries = d.Filter(n_cut, {\"tracks\"})\n",
    "                .Count();\n",
    "\n",
    "std::cout << *nentries.get() << \" passed all filters\" << std::endl;"
   ]
  },
  {
   "cell_type": "markdown",
   "metadata": {},
   "source": [
    "Another possibility consists in creating a new column containing the\n",
    " quantity we are interested in.\n",
    " In this example, we will cut on the number of tracks and plot their\n",
    " transverse momentum."
   ]
  },
  {
   "cell_type": "code",
   "execution_count": 6,
   "metadata": {
    "collapsed": false
   },
   "outputs": [
    {
     "name": "stderr",
     "output_type": "stream",
     "text": [
      "Info in <TCanvas::Print>: png file tracks_n.png has been created\n",
      "Info in <TCanvas::Print>: png file tracks_pt.png has been created\n"
     ]
    }
   ],
   "source": [
    "auto getPt = [](const FourVectors& tracks) {\n",
    "   std::vector<double> pts;\n",
    "   pts.reserve(tracks.size());\n",
    "   for (auto& t:tracks)\n",
    "      pts.emplace_back(t.Pt());\n",
    "   return pts;\n",
    "   };\n",
    "\n",
    "auto& augmented_d = d.AddBranch(\"tracks_n\", [](const FourVectors& tracks){return (int)tracks.size();})\n",
    "                     .Filter([](int tracks_n){return tracks_n > 2;}, {\"tracks_n\"})\n",
    "                     .AddBranch(\"tracks_pts\", getPt);\n",
    "\n",
    "auto trN = augmented_d.Histo(\"tracks_n\",40,-.5,39.5);\n",
    "auto trPts = augmented_d.Histo(\"tracks_pts\");\n",
    "\n",
    "TCanvas c1;\n",
    "trN->Draw();\n",
    "c1.Print(\"tracks_n.png\");\n",
    "\n",
    "TCanvas c2;\n",
    "trPts->Draw();\n",
    "c2.Print(\"tracks_pt.png\");\n",
    "\n",
    "return 0;"
   ]
  },
  {
   "cell_type": "markdown",
   "metadata": {},
   "source": [
    "Draw all canvases "
   ]
  },
  {
   "cell_type": "code",
   "execution_count": 7,
   "metadata": {
    "collapsed": false
   },
   "outputs": [
    {
     "data": {
      "image/png": "[encoded data removed]",
      "text/plain": [
       "<IPython.core.display.Image object>"
      ]
     },
     "metadata": {},
     "output_type": "display_data"
    },
    {
     "data": {
      "image/png": "[encoded data removed]",
      "text/plain": [
       "<IPython.core.display.Image object>"
      ]
     },
     "metadata": {},
     "output_type": "display_data"
    }
   ],
   "source": [
    "gROOT->GetListOfCanvases()->Draw()"
   ]
  }
 ],
 "metadata": {
  "kernelspec": {
   "display_name": "ROOT C++",
   "language": "c++",
   "name": "root"
  },
  "language_info": {
   "codemirror_mode": "text/x-c++src",
   "file_extension": ".C",
   "mimetype": " text/x-c++src",
   "name": "c++"
  }
 },
 "nbformat": 4,
 "nbformat_minor": 1
}
