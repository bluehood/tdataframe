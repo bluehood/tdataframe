{
 "cells": [
  {
   "cell_type": "markdown",
   "metadata": {},
   "source": [
    "# Tdf 0 0 1_Introduction\n",
    "<hr style=\"border-top-width: 4px; border-top-color: #34609b;\">\n",
    "This tutorial illustrates the basic features of the TDataFrame class, \n",
    "a utility which allows to interact with data stored in TTrees following\n",
    "a functional-chain like approach.\n",
    "\n",
    "\n",
    "\n",
    "\n",
    "**Author:** Enrico Guiraud  \n",
    "<i><small>This notebook tutorial was automatically generated with <a href= \"https://github.com/root-mirror/root/blob/master/documentation/doxygen/converttonotebook.py\">ROOTBOOK-izer (Beta)</a> from the macro found in the ROOT repository  on Wednesday, December 14, 2016 at 07:25 AM.</small></i>"
   ]
  },
  {
   "cell_type": "markdown",
   "metadata": {},
   "source": [
    " ## Preparation\n",
    " This notebook can be compiled with this invocation\n",
    " `g++ -o tdf001_introduction tdf001_introduction.C `root-config --cflags --libs` -lTreePlayer`"
   ]
  },
  {
   "cell_type": "code",
   "execution_count": 1,
   "metadata": {
    "collapsed": false
   },
   "outputs": [],
   "source": [
    "%%cpp -d\n",
    "#include \"TFile.h\"\n",
    "#include \"TH1F.h\"\n",
    "#include \"TTree.h\"\n",
    "#include \"ROOT/TSeq.hxx\"\n",
    "\n",
    "#include \"TDataFrame_old.hxx\""
   ]
  },
  {
   "cell_type": "markdown",
   "metadata": {},
   "source": [
    "  A simple helper function to fill a test tree: this makes the example \n",
    " stand-alone.\n",
    " "
   ]
  },
  {
   "cell_type": "code",
   "execution_count": 2,
   "metadata": {
    "collapsed": false
   },
   "outputs": [],
   "source": [
    "%%cpp -d\n",
    "void fill_tree(const char* filename, const char* treeName) {\n",
    "   TFile f(filename,\"RECREATE\");\n",
    "   TTree t(treeName,treeName);\n",
    "   double b1;\n",
    "   int b2;\n",
    "   t.Branch(\"b1\", &b1);\n",
    "   t.Branch(\"b2\", &b2);\n",
    "   for(auto i : ROOT::TSeqI(10)) {\n",
    "      b1 = i;\n",
    "      b2 = i*i;\n",
    "      t.Fill();\n",
    "   }\n",
    "   t.Write();\n",
    "   f.Close();\n",
    "   return;\n",
    "}"
   ]
  },
  {
   "cell_type": "markdown",
   "metadata": {},
   "source": [
    "We prepare an input tree to run on"
   ]
  },
  {
   "cell_type": "code",
   "execution_count": 3,
   "metadata": {
    "collapsed": false
   },
   "outputs": [],
   "source": [
    "auto fileName = \"myfile.root\";\n",
    "auto treeName = \"myTree\";\n",
    "fill_tree(fileName,treeName);"
   ]
  },
  {
   "cell_type": "markdown",
   "metadata": {},
   "source": [
    "We read the tree from the file and create a tdataframe, a class that \n",
    " allows us to interact with the data contained in the tree."
   ]
  },
  {
   "cell_type": "code",
   "execution_count": 4,
   "metadata": {
    "collapsed": false
   },
   "outputs": [],
   "source": [
    "TFile f(fileName);\n",
    "TTree* t;\n",
    "f.GetObject(treeName,t);\n",
    "TDataFrame d(*t);"
   ]
  },
  {
   "cell_type": "markdown",
   "metadata": {},
   "source": [
    " ## Operations on the dataframe \n",
    " We now review some \"actions\" which can be performed on the data frame\n",
    " First of all we define now our cut-flow with two lambda functions. We \n",
    " can use functions too."
   ]
  },
  {
   "cell_type": "code",
   "execution_count": 5,
   "metadata": {
    "collapsed": false
   },
   "outputs": [],
   "source": [
    "auto cutb1 = [](double b1) { return b1 < 5.; };\n",
    "auto cutb1b2 = [](int b2, double b1) { return b2 % 2 && b1 < 4.; };"
   ]
  },
  {
   "cell_type": "markdown",
   "metadata": {},
   "source": [
    " ### `collect_entries` action\n",
    " The `collect_entries` alloews to retrieve the number of the entries \n",
    " that passed the filters"
   ]
  },
  {
   "cell_type": "code",
   "execution_count": 6,
   "metadata": {
    "collapsed": false
   },
   "outputs": [
    {
     "name": "stdout",
     "output_type": "stream",
     "text": [
      "entry 1 passed all filters\n",
      "entry 3 passed all filters\n"
     ]
    }
   ],
   "source": [
    "auto entries = d.filter(cutb1, {\"b1\"})\n",
    "                .filter(cutb1b2, {\"b2\",\"b1\"})\n",
    "                .collect_entries();\n",
    "\n",
    "for(auto x: entries)\n",
    "   std::cout << \"entry \" << x << \" passed all filters\" << std::endl;"
   ]
  },
  {
   "cell_type": "markdown",
   "metadata": {},
   "source": [
    " ### `get` action\n",
    " The `get` action allows to retrieve all values of the variable stored in a \n",
    " particular branch that passed filters we specified. The values are stored \n",
    " in a list."
   ]
  },
  {
   "cell_type": "code",
   "execution_count": 7,
   "metadata": {
    "collapsed": false
   },
   "outputs": [
    {
     "name": "stdout",
     "output_type": "stream",
     "text": [
      "\n",
      "selected b1 entries\n",
      "0 1 2 3 4 \n"
     ]
    }
   ],
   "source": [
    "auto b1_cut = d.filter(cutb1, {\"b1\"}).get<double>(\"b1\");\n",
    "std::cout << \"\\nselected b1 entries\" << std::endl;\n",
    "for(auto b1_entry: b1_cut)\n",
    "   std::cout << b1_entry << \" \";\n",
    "std::cout << std::endl;"
   ]
  },
  {
   "cell_type": "markdown",
   "metadata": {},
   "source": [
    " ### `fillhist` action\n",
    " The `fillhist` action allows to fill an histogram. It returns a TH1F filled \n",
    " with values of the branch that passed the filters."
   ]
  },
  {
   "cell_type": "code",
   "execution_count": 8,
   "metadata": {
    "collapsed": false
   },
   "outputs": [
    {
     "name": "stdout",
     "output_type": "stream",
     "text": [
      "\n",
      "filled h 5 times\n"
     ]
    }
   ],
   "source": [
    "auto hist = d.filter(cutb1, {\"b1\"}).fillhist<double>(\"b1\");\n",
    "std::cout << \"\\nfilled h \" << hist.GetEntries() << \" times\" << std::endl;"
   ]
  },
  {
   "cell_type": "markdown",
   "metadata": {},
   "source": [
    " ### `foreach` action\n",
    " The most generic action of all: an operation is applied to all entries. \n",
    " In this case we fill a histogram. In some sense this is a violation of a \n",
    " purely functional paradigm - C++ allows to do that."
   ]
  },
  {
   "cell_type": "code",
   "execution_count": 9,
   "metadata": {
    "collapsed": false
   },
   "outputs": [
    {
     "name": "stdout",
     "output_type": "stream",
     "text": [
      "\n",
      "h filled with 5 entries\n"
     ]
    }
   ],
   "source": [
    "TH1F h(\"h\", \"h\", 12, -1, 11);\n",
    "d.filter([](int b2) { return b2 % 2 == 0; }, {\"b2\"})\n",
    " .foreach([&h](double b1) { h.Fill(b1); }, {\"b1\"});\n",
    "\n",
    "std::cout << \"\\nh filled with \" << h.GetEntries() << \" entries\" << std::endl;"
   ]
  },
  {
   "cell_type": "markdown",
   "metadata": {},
   "source": [
    "It is also possible to select the branches which will be used by default\n",
    " upfront. In this case there is no need to specify the name of the input\n",
    " branch of cutb1 (the first cut)."
   ]
  },
  {
   "cell_type": "code",
   "execution_count": 10,
   "metadata": {
    "collapsed": false
   },
   "outputs": [
    {
     "name": "stdout",
     "output_type": "stream",
     "text": [
      "\n",
      "default branches: ok\n"
     ]
    }
   ],
   "source": [
    "TDataFrame d2(*t, {\"b1\"});\n",
    "auto entries_bis = d2.filter(cutb1).filter(cutb1b2, {\"b2\", \"b1\"}).collect_entries();\n",
    "std::cout << \"\\ndefault branches: \"\n",
    "          << (entries == entries_bis ? \"ok\" : \"ko\")\n",
    "          << std::endl;\n",
    "\n",
    "return 0;"
   ]
  }
 ],
 "metadata": {
  "kernelspec": {
   "display_name": "ROOT C++",
   "language": "c++",
   "name": "root"
  },
  "language_info": {
   "codemirror_mode": "text/x-c++src",
   "file_extension": ".C",
   "mimetype": " text/x-c++src",
   "name": "c++"
  }
 },
 "nbformat": 4,
 "nbformat_minor": 0
}
